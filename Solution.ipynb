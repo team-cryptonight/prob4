{
 "cells": [
  {
   "cell_type": "code",
   "execution_count": 1,
   "id": "89501a42-2cd4-42e7-a642-286ecd74195a",
   "metadata": {},
   "outputs": [
    {
     "name": "stdout",
     "output_type": "stream",
     "text": [
      "Defaulting to user installation because normal site-packages is not writeable\n",
      "Requirement already satisfied: base58 in /home/curling_grad/.local/lib/python3.10/site-packages (2.1.1)\n",
      "Note: you may need to restart the kernel to use updated packages.\n",
      "Defaulting to user installation because normal site-packages is not writeable\n",
      "Requirement already satisfied: cryptography in /usr/lib/python3.10/site-packages (37.0.2)\n",
      "Requirement already satisfied: cffi>=1.12 in /usr/lib/python3.10/site-packages (from cryptography) (1.15.0)\n",
      "Requirement already satisfied: pycparser in /usr/lib/python3.10/site-packages (from cffi>=1.12->cryptography) (2.21)\n",
      "Note: you may need to restart the kernel to use updated packages.\n"
     ]
    }
   ],
   "source": [
    "%pip install base58\n",
    "%pip install cryptography"
   ]
  },
  {
   "cell_type": "code",
   "execution_count": 2,
   "id": "96fa37ee-8ad8-4f69-9fe3-61ef9a2f0b3f",
   "metadata": {
    "tags": []
   },
   "outputs": [],
   "source": [
    "from cryptography.hazmat.primitives.asymmetric.ec import EllipticCurvePublicKey, EllipticCurve, SECP256K1, derive_private_key\n",
    "from cryptography.hazmat.primitives.kdf.pbkdf2 import PBKDF2HMAC\n",
    "from cryptography.hazmat.primitives import hashes, hmac\n",
    "from itertools import combinations\n",
    "from pprint import pprint\n",
    "\n",
    "import base58\n",
    "import base64\n",
    "import json"
   ]
  },
  {
   "cell_type": "markdown",
   "id": "141c833a-f784-440d-86f0-8020bbf9b589",
   "metadata": {},
   "source": [
    "# 비트코인 지갑에서 비밀키 추출하기\n",
    "\n",
    "문제에서 주어져 있는 (깨진) JSON 파일에서 공개키를 다음과 같이 얻는다."
   ]
  },
  {
   "cell_type": "code",
   "execution_count": 3,
   "id": "cb9f1df9-c70e-4997-9065-3b5d662bcea8",
   "metadata": {},
   "outputs": [],
   "source": [
    "xpubkey = base58.b58decode(\"xpub661MyMwAqRbcFwkbijMsskkrPEja9rZQAvGavNLGpthpwzbPyBDjCFUiLHVQXED2YM9pUAC7zz62ShWRPRdwbyyWEQ5CK1yP5vPWrmGCg7D\")"
   ]
  },
  {
   "cell_type": "markdown",
   "id": "4a2b5ad7-94f7-48d0-99fd-74d53d7472a5",
   "metadata": {},
   "source": [
    "[BIP-0032의 직렬화 형식](https://github.com/bitcoin/bips/blob/master/bip-0032.mediawiki#Serialization_format)에 따라 직렬화된 공개키를 살펴보자."
   ]
  },
  {
   "cell_type": "code",
   "execution_count": 4,
   "id": "04b4c904-75ff-4dec-8483-2f5d933e02dc",
   "metadata": {},
   "outputs": [
    {
     "name": "stdout",
     "output_type": "stream",
     "text": [
      "version bytes (4B)\t 04 88 b2 1e\n",
      "depth (1B)\t\t 00\n",
      "fingerprint (4B)\t 00 00 00 00\n",
      "child number (4B)\t 00 00 00 00\n",
      "chain code (32B)\t 8c d2 ba bc c1 f6 71 bc 33 4e aa 09 13 a4 b3 10 d1 3e 40 8f a0 11 b8 63 6a 30 f1 2d 14 04 c6 b4\n",
      "public key data (33B)\t 03 fd 64 98 36 81 3f a9 b2 22 2e 6f 6a 4c 92 fa f6 42 e8 36 6e c6 5d 63 40 15 17 99 d8 43 69 95 33\n"
     ]
    }
   ],
   "source": [
    "print(f\"version bytes (4B)\\t {' '.join([f'{x:02x}' for x in xpubkey[0:4]])}\")\n",
    "print(f\"depth (1B)\\t\\t {' '.join([f'{x:02x}' for x in xpubkey[4:5]])}\")\n",
    "print(f\"fingerprint (4B)\\t {' '.join([f'{x:02x}' for x in xpubkey[5:9]])}\")\n",
    "print(f\"child number (4B)\\t {' '.join([f'{x:02x}' for x in xpubkey[9:13]])}\")\n",
    "chain_code = xpubkey[13:45]\n",
    "print(f\"chain code (32B)\\t {' '.join([f'{x:02x}' for x in chain_code])}\")\n",
    "public_key_data = xpubkey[45:78]\n",
    "print(f\"public key data (33B)\\t {' '.join([f'{x:02x}' for x in public_key_data])}\")"
   ]
  },
  {
   "cell_type": "markdown",
   "id": "389d7e66-df31-4fdf-9ceb-789b3fc5cd9d",
   "metadata": {},
   "source": [
    "Depth, fingerprint, child number 모두 0으로 채워져 있고, 주어진 정보는 master key의 것임을 알 수 있다.\n",
    "\n",
    "Public key data를 SEC-1에 따라 파싱해보자."
   ]
  },
  {
   "cell_type": "code",
   "execution_count": 5,
   "id": "2d97aa4a-0b5e-4871-b4fb-121a5b24f784",
   "metadata": {},
   "outputs": [
    {
     "data": {
      "text/plain": [
       "<EllipticCurvePublicNumbers(curve=secp256k1, x=114612885932937541895952981204780521972488172672556735824743693348595397399859, y=36275940037485766249167729003024982632875105444299785428776410948186178771039>"
      ]
     },
     "execution_count": 5,
     "metadata": {},
     "output_type": "execute_result"
    }
   ],
   "source": [
    "curvepoint = EllipticCurvePublicKey.from_encoded_point(SECP256K1(), public_key_data)\n",
    "curvepoint.public_numbers()"
   ]
  },
  {
   "cell_type": "markdown",
   "id": "02f2cb49-4c1a-4682-a105-91d698726fe4",
   "metadata": {},
   "source": [
    "이 문제에서는 이 공개키에 대응하는 비밀키를 구하면 된다. BIP-0032의 [\"Master key generation\"](https://github.com/bitcoin/bips/blob/master/bip-0032.mediawiki#master-key-generation)에 따르면 마스터키는 다음과 같은 과정으로 생성된다.\n",
    "\n",
    "1. 어떤 길이의 Seed `S`를 생성한다. (이 문제에서는 여기서 BIP-0039를 따랐다.)\n",
    "2. 64byte sequece `I = HMAC_SHA512(key=\"Bitcoin seed\", data=S)`를 계산한다.\n",
    "3. `I`의 첫 32byte를 `I_L`, 다음 32byte를 `I_R`이라고 한다.\n",
    "4. `I_L`은 비밀키, `I_R`은 chain code로 사용된다.\n",
    "\n",
    "방금 chain code를 `xpubkey`에서 구했으므로, `I_R`을 구한 것과 마찬가지이다."
   ]
  },
  {
   "cell_type": "code",
   "execution_count": 6,
   "id": "719a80f4-1ba4-4dec-af7a-ccf8e4e392b9",
   "metadata": {},
   "outputs": [],
   "source": [
    "I_R = chain_code"
   ]
  },
  {
   "cell_type": "markdown",
   "id": "d0e4f6a4-7fdf-4eaf-99b8-b68ef7f12cbb",
   "metadata": {},
   "source": [
    "지갑 정보에 있는 `xPrivKeyEncrypted`와 `mnemonicEncrypted`는 무엇일까? 여기 저장된 정보를 파싱해보자."
   ]
  },
  {
   "cell_type": "code",
   "execution_count": 7,
   "id": "87955712-f28c-4659-a06e-00bf0e0f598c",
   "metadata": {},
   "outputs": [
    {
     "name": "stdout",
     "output_type": "stream",
     "text": [
      "{'Adata': '',\n",
      " 'Cipher': 'AES-CCM',\n",
      " 'Cipher Text': 'kN197TSnBiyqHv+Ul1ioNdvmNZV3zDSkane+qTrLKLoJaeTh2mUooYKYY+EgztWp6ichJfqUWCM0D9Yd72j4Ytj4wVLVRP+5VcUBqpnHli2gVIYIETocig92bNCzIZdb42jheXbRd+EvH5ZSanq3Sr3uQJN/eN0=',\n",
      " 'IV': 'TGOpwxj3UiffLawxlO8P0Q==',\n",
      " 'Key Derivation Iteration': 1000,\n",
      " 'Key Length': 128,\n",
      " 'Salt': '2B2CnAzrhrU=',\n",
      " 'Tag Size': 64,\n",
      " 'V': 1}\n",
      "{'Adata': '',\n",
      " 'Cipher': 'AES-CCM',\n",
      " 'IV': '2k+eN8VqCnilue22ENpdfQ==',\n",
      " 'Key Derivation Iteration': 1000,\n",
      " 'Key Length': 128,\n",
      " 'Salt': '2B2CnAzrhrU=',\n",
      " 'Tag Size': 64,\n",
      " 'V': 1,\n",
      " 'ct': 'NjuugzjFTbX7Tj05w4FVpPnyP9lru7uFtPRPwkn1nQGprvFirzHSjLVCipWEJqUayFb/Ksm46yIWtbPCTF0viJUD4+lcBcSlpMpBuwxBc92yUaQ5aE8lX21s'}\n"
     ]
    }
   ],
   "source": [
    "xprivkey_encrypted = json.loads(\"\"\"{\n",
    "\\\"IV\\\":\\\"TGOpwxj3UiffLawxlO8P0Q==\\\",\n",
    "\\\"V\\\":1,\n",
    "\\\"Key Derivation Iteration\\\":1000,\n",
    "\\\"Key Length\\\":128,\n",
    "\\\"Tag Size\\\":64,\n",
    "\\\"Adata\\\":\\\"\\\",\n",
    "\\\"Cipher\\\":\\\"AES-CCM\\\",\n",
    "\\\"Salt\\\":\\\"2B2CnAzrhrU=\\\",\n",
    "\\\"Cipher Text\\\":\\\"kN197TSnBiyqHv+Ul1ioNdvmNZV3zDSkane+qTrLKLoJaeTh2mUooYKYY+EgztWp6ichJfqUWCM0D9Yd72j4Ytj4wVLVRP+5VcUBqpnHli2gVIYIETocig92bNCzIZdb42jheXbRd+EvH5ZSanq3Sr3uQJN/eN0=\\\"}\"\"\")\n",
    "pprint(xprivkey_encrypted)\n",
    "mnemonic_encrypted = json.loads(\"\"\"{\\\"IV\\\":\\\"2k+eN8VqCnilue22ENpdfQ==\\\",\n",
    "\\\"V\\\":1,\n",
    "\\\"Key Derivation Iteration\\\":1000,\n",
    "\\\"Key Length\\\":128,\n",
    "\\\"Tag Size\\\":64,\n",
    "\\\"Adata\\\":\\\"\\\",\n",
    "\\\"Cipher\\\":\\\"AES-CCM\\\",\n",
    "\\\"Salt\\\":\\\"2B2CnAzrhrU=\\\",\n",
    "\\\"ct\\\":\\\"NjuugzjFTbX7Tj05w4FVpPnyP9lru7uFtPRPwkn1nQGprvFirzHSjLVCipWEJqUayFb/Ksm46yIWtbPCTF0viJUD4+lcBcSlpMpBuwxBc92yUaQ5aE8lX21s\\\"}\"\"\")\n",
    "pprint(mnemonic_encrypted)"
   ]
  },
  {
   "cell_type": "markdown",
   "id": "30b9a363-e8eb-4782-8a83-3d0f2e2b0ae1",
   "metadata": {},
   "source": [
    "둘다 AES-CCM으로 암호화된 정보이고, 흥미롭게도 `Salt`값이 같다."
   ]
  },
  {
   "cell_type": "code",
   "execution_count": 8,
   "id": "e8a49a87-e183-48e7-837d-e1c56708055f",
   "metadata": {},
   "outputs": [
    {
     "data": {
      "text/plain": [
       "True"
      ]
     },
     "execution_count": 8,
     "metadata": {},
     "output_type": "execute_result"
    }
   ],
   "source": [
    "xprivkey_encrypted[\"Salt\"] == mnemonic_encrypted[\"Salt\"]"
   ]
  },
  {
   "cell_type": "markdown",
   "id": "2222df1a-3ce5-4925-ba7c-86b3ebe4882c",
   "metadata": {},
   "source": [
    "AES-CCM 암호화에서 암호문의 길이는 (plaintext length)+(tag length)이므로, mnemonic sentence의 길이를 구할 수 있다."
   ]
  },
  {
   "cell_type": "code",
   "execution_count": 9,
   "id": "858f03c8-08b8-4420-b1e7-8bf27ae47fa5",
   "metadata": {},
   "outputs": [
    {
     "data": {
      "text/plain": [
       "82"
      ]
     },
     "execution_count": 9,
     "metadata": {},
     "output_type": "execute_result"
    }
   ],
   "source": [
    "len(base64.b64decode(mnemonic_encrypted[\"ct\"])) - mnemonic_encrypted[\"Tag Size\"] // 8"
   ]
  },
  {
   "cell_type": "markdown",
   "id": "170f3f0c-17bb-4aca-a44b-8f66f91d1cb0",
   "metadata": {},
   "source": [
    "문제에서 주어진 dictionary는 15개의 단어만 포함되어 있으므로, mnemonic sentence의 길이가 82가 되게 하는 단어 조합의 개수는 얼마 되지 않는다. 직접 구해보자."
   ]
  },
  {
   "cell_type": "code",
   "execution_count": 10,
   "id": "d009c061-bac6-423e-b92b-75cd80b0a9e1",
   "metadata": {},
   "outputs": [],
   "source": [
    "mnemonic_words = [\n",
    "    (0, \"abandon\"),\n",
    "    (224, \"bright\"),\n",
    "    (248, \"business\"),\n",
    "    (365, \"color\"),\n",
    "    (958, \"jelly\"),\n",
    "    (964, \"joy\"),\n",
    "    (1033, \"license\"),\n",
    "    (1114, \"mercy\"),\n",
    "    (1156, \"mountain\"),\n",
    "    (1293, \"payment\"),\n",
    "    (1354, \"power\"),\n",
    "    (1358, \"prefer\"),\n",
    "    (1401, \"quality\"),\n",
    "    (1798, \"this\"),\n",
    "    (2047, \"zoo\"),\n",
    "]"
   ]
  },
  {
   "cell_type": "markdown",
   "id": "83f6a9e9-1f9e-4572-b2db-6ef8813d87c5",
   "metadata": {},
   "source": [
    "dictionary의 모든 단어를 이어 만든 문장의 길이는 다음과 같다."
   ]
  },
  {
   "cell_type": "code",
   "execution_count": 11,
   "id": "94732739-270e-4ad8-a5f8-d02917dee5ea",
   "metadata": {},
   "outputs": [
    {
     "data": {
      "text/plain": [
       "100"
      ]
     },
     "execution_count": 11,
     "metadata": {},
     "output_type": "execute_result"
    }
   ],
   "source": [
    "len(\" \".join(map(lambda x: x[1], mnemonic_words)))"
   ]
  },
  {
   "cell_type": "markdown",
   "id": "3f5a8732-e157-4024-a24a-0c134bdb7d58",
   "metadata": {},
   "source": [
    "BIP-0032에 의하면 dictionary에서 12개의 단어를 고른다. 따라서 `mnemonic_words`에서 길이 합이 100 - 82 - 3 = 15인 단어 3개의 조합을 찾으면 된다."
   ]
  },
  {
   "cell_type": "code",
   "execution_count": 12,
   "id": "ea108174-0ecf-464c-9c24-f28aad5d6318",
   "metadata": {},
   "outputs": [
    {
     "data": {
      "text/plain": [
       "50"
      ]
     },
     "execution_count": 12,
     "metadata": {},
     "output_type": "execute_result"
    }
   ],
   "source": [
    "unused_triples = list(filter(lambda t: sum([len(w[1]) for w in t]) == 15, combinations(mnemonic_words, 3)))\n",
    "len(unused_triples)"
   ]
  },
  {
   "cell_type": "markdown",
   "id": "1d2d71fd-8419-499d-8a97-1f799f6a51f4",
   "metadata": {},
   "source": [
    "사용되지 않는 조합을 제외하면 단어의 조합 개수는 50개로 줄어든다."
   ]
  },
  {
   "cell_type": "code",
   "execution_count": 13,
   "id": "6fc596d8-50eb-4393-a423-c27ca87a3f68",
   "metadata": {},
   "outputs": [],
   "source": [
    "used_words = [set(mnemonic_words) - set(t) for t in unused_triples]"
   ]
  },
  {
   "cell_type": "markdown",
   "id": "5a9108de-60e7-498e-b42a-1d1a0f72d0ac",
   "metadata": {},
   "source": [
    "각 조합에 12개의 단어가 있으므로, 50\\*12!개 경우를 탐색하면 된다. 탐색으로 얻은 결과를 대입해 보자."
   ]
  },
  {
   "cell_type": "code",
   "execution_count": 14,
   "id": "bb51ee80-a34e-4d99-bd6a-e84d4eb297f4",
   "metadata": {},
   "outputs": [
    {
     "data": {
      "text/plain": [
       "True"
      ]
     },
     "execution_count": 14,
     "metadata": {},
     "output_type": "execute_result"
    }
   ],
   "source": [
    "sentence = b\"license business color this prefer joy payment jelly mountain quality power bright\"\n",
    "kdf = PBKDF2HMAC(algorithm=hashes.SHA512(), length=64, salt=b\"mnemonic\", iterations=2048)\n",
    "seed = kdf.derive(sentence)\n",
    "h = hmac.HMAC(b\"Bitcoin seed\", hashes.SHA512())\n",
    "h.update(seed)\n",
    "I = h.finalize()\n",
    "I[32:] == I_R"
   ]
  },
  {
   "cell_type": "markdown",
   "id": "6e936cde-e235-429c-b854-44d6109ee027",
   "metadata": {},
   "source": [
    "비밀키를 구해보자."
   ]
  },
  {
   "cell_type": "code",
   "execution_count": 15,
   "id": "401283ab-f39d-4818-9e19-a940227cac6a",
   "metadata": {},
   "outputs": [
    {
     "data": {
      "text/plain": [
       "106803545498616358317922859232323094583340750393811153506629572524687868755802"
      ]
     },
     "execution_count": 15,
     "metadata": {},
     "output_type": "execute_result"
    }
   ],
   "source": [
    "privkey_bytes = I[:32]\n",
    "privkey = 0\n",
    "for byte in privkey_bytes:\n",
    "    privkey *= 2 ** 8\n",
    "    privkey += byte\n",
    "privkey"
   ]
  },
  {
   "cell_type": "markdown",
   "id": "09b3ce99-5a81-402c-bcf6-b5e87710486f",
   "metadata": {},
   "source": [
    "과연 이 키가 우리가 찾는 것이었을까?"
   ]
  },
  {
   "cell_type": "code",
   "execution_count": 16,
   "id": "9134bca6-8384-44a5-8b2e-d0641cef51a6",
   "metadata": {},
   "outputs": [
    {
     "data": {
      "text/plain": [
       "True"
      ]
     },
     "execution_count": 16,
     "metadata": {},
     "output_type": "execute_result"
    }
   ],
   "source": [
    "derive_private_key(privkey, SECP256K1()).public_key().public_numbers() == curvepoint.public_numbers()"
   ]
  },
  {
   "cell_type": "markdown",
   "id": "836b7355-36c0-45ce-9da8-ff42c2e52393",
   "metadata": {},
   "source": [
    "주어진 공개키에 대응되는 비밀키임을 알 수 있다. PROFIT!"
   ]
  }
 ],
 "metadata": {
  "kernelspec": {
   "display_name": "Python 3 (ipykernel)",
   "language": "python",
   "name": "python3"
  },
  "language_info": {
   "codemirror_mode": {
    "name": "ipython",
    "version": 3
   },
   "file_extension": ".py",
   "mimetype": "text/x-python",
   "name": "python",
   "nbconvert_exporter": "python",
   "pygments_lexer": "ipython3",
   "version": "3.10.5"
  }
 },
 "nbformat": 4,
 "nbformat_minor": 5
}

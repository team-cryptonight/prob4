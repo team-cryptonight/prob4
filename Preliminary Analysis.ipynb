{
 "cells": [
  {
   "cell_type": "code",
   "execution_count": 1,
   "id": "96fa37ee-8ad8-4f69-9fe3-61ef9a2f0b3f",
   "metadata": {
    "tags": []
   },
   "outputs": [
    {
     "name": "stdout",
     "output_type": "stream",
     "text": [
      "Defaulting to user installation because normal site-packages is not writeable\n",
      "Requirement already satisfied: base58 in /home/curling_grad/.local/lib/python3.10/site-packages (2.1.1)\n",
      "Note: you may need to restart the kernel to use updated packages.\n"
     ]
    }
   ],
   "source": [
    "%pip install base58\n",
    "import base58"
   ]
  },
  {
   "cell_type": "markdown",
   "id": "141c833a-f784-440d-86f0-8020bbf9b589",
   "metadata": {},
   "source": [
    "# 비트코인 지갑에서 비밀키 추출하기 (사전 분석)\n",
    "\n",
    "문제에서 주어져 있는 (깨진) JSON 파일에서 공개키를 다음과 같이 얻는다."
   ]
  },
  {
   "cell_type": "code",
   "execution_count": 2,
   "id": "cb9f1df9-c70e-4997-9065-3b5d662bcea8",
   "metadata": {},
   "outputs": [],
   "source": [
    "xpubkey = list(base58.b58decode(\"xpub661MyMwAqRbcFwkbijMsskkrPEja9rZQAvGavNLGpthpwzbPyBDjCFUiLHVQXED2YM9pUAC7zz62ShWRPRdwbyyWEQ5CK1yP5vPWrmGCg7D\"))"
   ]
  },
  {
   "cell_type": "markdown",
   "id": "4a2b5ad7-94f7-48d0-99fd-74d53d7472a5",
   "metadata": {},
   "source": [
    "[BIP-0032의 직렬화 형식](https://github.com/bitcoin/bips/blob/master/bip-0032.mediawiki#Serialization_format)에 따라 직렬화된 공개키를 살펴보자."
   ]
  },
  {
   "cell_type": "code",
   "execution_count": 3,
   "id": "04b4c904-75ff-4dec-8483-2f5d933e02dc",
   "metadata": {},
   "outputs": [
    {
     "name": "stdout",
     "output_type": "stream",
     "text": [
      "version bytes (4B)\t 04 88 b2 1e\n",
      "depth (1B)\t\t 00\n",
      "fingerprint (4B)\t 00 00 00 00\n",
      "child number (4B)\t 00 00 00 00\n",
      "chain code (32B)\t 8c d2 ba bc c1 f6 71 bc 33 4e aa 09 13 a4 b3 10 d1 3e 40 8f a0 11 b8 63 6a 30 f1 2d 14 04 c6 b4\n",
      "public key data (33B)\t 03 fd 64 98 36 81 3f a9 b2 22 2e 6f 6a 4c 92 fa f6 42 e8 36 6e c6 5d 63 40 15 17 99 d8 43 69 95 33\n"
     ]
    }
   ],
   "source": [
    "print(f\"version bytes (4B)\\t {' '.join([f'{x:02x}' for x in xpubkey[0:4]])}\")\n",
    "print(f\"depth (1B)\\t\\t {' '.join([f'{x:02x}' for x in xpubkey[4:5]])}\")\n",
    "print(f\"fingerprint (4B)\\t {' '.join([f'{x:02x}' for x in xpubkey[5:9]])}\")\n",
    "print(f\"child number (4B)\\t {' '.join([f'{x:02x}' for x in xpubkey[9:13]])}\")\n",
    "print(f\"chain code (32B)\\t {' '.join([f'{x:02x}' for x in xpubkey[13:45]])}\")\n",
    "print(f\"public key data (33B)\\t {' '.join([f'{x:02x}' for x in xpubkey[45:78]])}\")"
   ]
  },
  {
   "cell_type": "markdown",
   "id": "389d7e66-df31-4fdf-9ceb-789b3fc5cd9d",
   "metadata": {},
   "source": [
    "Depth, fingerprint, child number 모두 0으로 채워져 있고, 주어진 정보는 master key의 것임을 알 수 있다."
   ]
  }
 ],
 "metadata": {
  "kernelspec": {
   "display_name": "Python 3 (ipykernel)",
   "language": "python",
   "name": "python3"
  },
  "language_info": {
   "codemirror_mode": {
    "name": "ipython",
    "version": 3
   },
   "file_extension": ".py",
   "mimetype": "text/x-python",
   "name": "python",
   "nbconvert_exporter": "python",
   "pygments_lexer": "ipython3",
   "version": "3.10.5"
  }
 },
 "nbformat": 4,
 "nbformat_minor": 5
}
